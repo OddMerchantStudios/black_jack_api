{
 "cells": [
  {
   "cell_type": "markdown",
   "metadata": {},
   "source": [
    "# Black Jack API Game"
   ]
  },
  {
   "cell_type": "markdown",
   "metadata": {},
   "source": [
    "### Rules:\n",
    "### Get as close to 21 points as possible but not over 21\n",
    "### Number cards give points according to their face value, JACK, QUEEN, KING is 10, ACE is 1 or 11 depending on what is needed\n",
    "### Player draws 2 cards\n",
    "### Player can draw more cards unless he is over 21 points\n",
    "### Dealer draws 2\n",
    "### Deaker draws more if under 17 points\n",
    "### Player closest to 21 points wins"
   ]
  },
  {
   "cell_type": "code",
   "execution_count": 456,
   "metadata": {},
   "outputs": [],
   "source": [
    "import requests\n",
    "import json"
   ]
  },
  {
   "cell_type": "markdown",
   "metadata": {},
   "source": [
    "# Methods for the game"
   ]
  },
  {
   "cell_type": "code",
   "execution_count": 457,
   "metadata": {},
   "outputs": [],
   "source": [
    "#shuffle_deck_url = f\"https://deckofcardsapi.com/api/deck/{deck_id}/shuffle/\"\n",
    "\n",
    "# drawing a single card\n",
    "\n",
    "def draw_a_card(deck_id, print_urls = False):\n",
    "    \n",
    "    print(\"Drawing a card...\")\n",
    "    draw_cards_url = f\"https://deckofcardsapi.com/api/deck/{deck_id}/draw/?count=1\"\n",
    "    \n",
    "    if print_urls:\n",
    "        print(draw_cards_url)\n",
    "        \n",
    "    draw_cards = requests.get(draw_cards_url).json()\n",
    "    card_full = draw_cards['cards'][0]['value'] + ' of ' + draw_cards['cards'][0]['suit']\n",
    "    card_value = draw_cards['cards'][0]['value']\n",
    "    \n",
    "    print(f'You got a {card_full}!')\n",
    "    \n",
    "    return card_value\n",
    "\n",
    "# decide if you want to draw another card\n",
    "\n",
    "def draw_third(deck):   \n",
    "    total = count_score(deck)\n",
    "    while total < 21:\n",
    "        draw_decision = input('Draw another card? (y/n): ').lower()\n",
    "        if draw_decision == 'y':\n",
    "            print(\"Drawing another...\")\n",
    "            player_cards.append(draw_a_card(deck_id))\n",
    "            total = count_score(deck)\n",
    "        elif draw_decision == 'n':\n",
    "            print('Dealer\\'s turn...')\n",
    "            made_decision = True\n",
    "            return made_decision\n",
    "            break\n",
    "        else:\n",
    "            print('Invalid input. Please enter \"y\" or \"n\".')\n",
    "            \n",
    "# count total score for cards in a player's hand\n",
    "\n",
    "def count_score(deck):\n",
    "    total = 0 \n",
    "    for card in deck:\n",
    "        if card != 'ACE':\n",
    "            card_score = point_system[card]\n",
    "            total += card_score\n",
    "    for card in deck:\n",
    "        if card == 'ACE':\n",
    "            if total + 11 > 21:\n",
    "                total += point_system[card][0]\n",
    "            else:\n",
    "                total += point_system[card][1]\n",
    "    if total > 21:\n",
    "        print('Bust!')\n",
    "    \n",
    "    print(f'Total score is {total}')\n",
    "            \n",
    "    return total\n",
    "\n",
    "# logic for presenting the outcome of the game based on point standings\n",
    "\n",
    "def win_condition(player_points, dealer_points):\n",
    "    player_bust = False\n",
    "    dealer_bust = False\n",
    "    if player_points > 21:\n",
    "        player_bust = True\n",
    "    if dealer_points > 21:\n",
    "        dealer_bust = True\n",
    "\n",
    "    if player_bust and dealer_bust:\n",
    "        print('it\\'s a draw! You both got busted!')\n",
    "    elif player_bust and not dealer_bust:\n",
    "        print('You lost! You got busted!')\n",
    "    elif dealer_bust and not player_bust:\n",
    "        print('You won!!! Dealer got busted!')\n",
    "    else:\n",
    "        if player_points > dealer_points:\n",
    "            print(f\"You won with a score of {player_points} over dealer\\'s {dealer_points}!!!\")\n",
    "        elif player_points <  dealer_points:\n",
    "            print(f\"You lost with a score of {player_points} under dealer\\'s {dealer_points}\")\n",
    "        else:\n",
    "            print(f\"It's a draw! Your score is {player_points} and dealer\\'s is {dealer_points} as well!\")"
   ]
  },
  {
   "cell_type": "markdown",
   "metadata": {},
   "source": [
    "# Start from here to begin a new game"
   ]
  },
  {
   "cell_type": "code",
   "execution_count": 470,
   "metadata": {},
   "outputs": [],
   "source": [
    "# initializing variables\n",
    "point_system = {\n",
    "    '2' : 2,\n",
    "    '3' : 3,\n",
    "    '4' : 4,\n",
    "    '5' : 5, \n",
    "    '6' : 6,\n",
    "    '7' : 7,\n",
    "    '8' : 8,\n",
    "    '9' : 9,\n",
    "    '10' : 10,\n",
    "    'JACK' : 10,\n",
    "    'QUEEN' : 10,\n",
    "    'KING' : 10,\n",
    "    'ACE' : [1,11]\n",
    "}\n",
    "\n",
    "player_cards = []\n",
    "dealer_cards = []\n",
    "player_points = 0\n",
    "dealer_points = 0\n",
    "made_decision = False\n",
    "\n",
    "# Declare request url to create deck id\n",
    "create_deck_url = \"https://deckofcardsapi.com/api/deck/new/shuffle/?deck_count=6\"\n",
    "\n",
    "# Execute create deck url\n",
    "response_data = requests.get(create_deck_url).json()\n",
    "\n",
    "# Extract deck id\n",
    "deck_id = response_data['deck_id']"
   ]
  },
  {
   "cell_type": "markdown",
   "metadata": {
    "tags": []
   },
   "source": [
    "## Player 1 Turn"
   ]
  },
  {
   "cell_type": "code",
   "execution_count": 471,
   "metadata": {},
   "outputs": [
    {
     "name": "stdout",
     "output_type": "stream",
     "text": [
      "Drawing a card...\n",
      "You got a ACE of DIAMONDS!\n",
      "Drawing a card...\n",
      "You got a 3 of SPADES!\n"
     ]
    }
   ],
   "source": [
    "# Draw two cards\n",
    "\n",
    "player_cards.append(draw_a_card(deck_id))\n",
    "player_cards.append(draw_a_card(deck_id))"
   ]
  },
  {
   "cell_type": "markdown",
   "metadata": {},
   "source": [
    "## if you select 'n', manually navigate to next cell before executing"
   ]
  },
  {
   "cell_type": "code",
   "execution_count": 472,
   "metadata": {},
   "outputs": [
    {
     "name": "stdout",
     "output_type": "stream",
     "text": [
      "Total score is 14\n"
     ]
    },
    {
     "name": "stdin",
     "output_type": "stream",
     "text": [
      "Draw another card? (y/n):  y\n"
     ]
    },
    {
     "name": "stdout",
     "output_type": "stream",
     "text": [
      "Drawing another...\n",
      "Drawing a card...\n",
      "You got a 4 of DIAMONDS!\n",
      "Total score is 18\n"
     ]
    },
    {
     "name": "stdin",
     "output_type": "stream",
     "text": [
      "Draw another card? (y/n):  y\n"
     ]
    },
    {
     "name": "stdout",
     "output_type": "stream",
     "text": [
      "Drawing another...\n",
      "Drawing a card...\n",
      "You got a JACK of HEARTS!\n",
      "Total score is 18\n"
     ]
    },
    {
     "name": "stdin",
     "output_type": "stream",
     "text": [
      "Draw another card? (y/n):  y\n"
     ]
    },
    {
     "name": "stdout",
     "output_type": "stream",
     "text": [
      "Drawing another...\n",
      "Drawing a card...\n",
      "You got a 3 of HEARTS!\n",
      "Total score is 21\n",
      ">>> PLAYER FINAL SCORE: <<<\n",
      "=============================================================================\n",
      "Total score is 21\n",
      "=============================================================================\n",
      "['ACE', '3', '4', 'JACK', '3']\n"
     ]
    }
   ],
   "source": [
    "# Decide whether you want another card\n",
    "\n",
    "draw_third(player_cards)\n",
    "print('>>> PLAYER FINAL SCORE: <<<')\n",
    "print('='*77)\n",
    "player_points = count_score(player_cards)\n",
    "print('='*77)\n",
    "print(player_cards)"
   ]
  },
  {
   "cell_type": "markdown",
   "metadata": {},
   "source": [
    "## Player 2 / Dealer Turn"
   ]
  },
  {
   "cell_type": "code",
   "execution_count": 473,
   "metadata": {},
   "outputs": [
    {
     "name": "stdout",
     "output_type": "stream",
     "text": [
      "Drawing a card...\n",
      "You got a ACE of SPADES!\n",
      "Drawing a card...\n",
      "You got a 5 of CLUBS!\n",
      "Total score is 16\n",
      "Drawing a card...\n",
      "You got a QUEEN of DIAMONDS!\n",
      "Total score is 16\n",
      "Drawing a card...\n",
      "You got a 5 of CLUBS!\n",
      "Total score is 21\n",
      "=============================================================================\n",
      "['ACE', '5', 'QUEEN', '5']\n",
      "=============================================================================\n",
      ">>> DEALER FINAL SCORE: <<<\n",
      "Total score is 21\n"
     ]
    }
   ],
   "source": [
    "# draw 2 cards\n",
    "\n",
    "dealer_cards.append(draw_a_card(deck_id))\n",
    "dealer_cards.append(draw_a_card(deck_id))\n",
    "dealer_points = count_score(dealer_cards)\n",
    "\n",
    "# keep drawing until over 16 points\n",
    "while dealer_points < 17:\n",
    "    dealer_cards.append(draw_a_card(deck_id))\n",
    "    dealer_points = count_score(dealer_cards)\n",
    "print('='*77)    \n",
    "print(dealer_cards)\n",
    "print('='*77)    \n",
    "print('>>> DEALER FINAL SCORE: <<<')\n",
    "dealer_points = count_score(dealer_cards)"
   ]
  },
  {
   "cell_type": "code",
   "execution_count": 474,
   "metadata": {},
   "outputs": [
    {
     "name": "stdout",
     "output_type": "stream",
     "text": [
      "=============================================================================\n",
      "It's a draw! Your score is 21 and dealer's is 21 as well!\n",
      "=============================================================================\n",
      "Your cards: ['ACE', '3', '4', 'JACK', '3']\n",
      "Dealer's cards: ['ACE', '5', 'QUEEN', '5']\n",
      "=============================================================================\n"
     ]
    }
   ],
   "source": [
    "# decide the winner\n",
    "print('='*77)\n",
    "win_condition(player_points, dealer_points)\n",
    "print('='*77)\n",
    "print(f'Your cards: {player_cards}')\n",
    "print(f'Dealer\\'s cards: {dealer_cards}')\n",
    "print('='*77)"
   ]
  },
  {
   "cell_type": "code",
   "execution_count": null,
   "metadata": {},
   "outputs": [],
   "source": []
  }
 ],
 "metadata": {
  "kernelspec": {
   "display_name": "Python 3 (ipykernel)",
   "language": "python",
   "name": "python3"
  },
  "language_info": {
   "codemirror_mode": {
    "name": "ipython",
    "version": 3
   },
   "file_extension": ".py",
   "mimetype": "text/x-python",
   "name": "python",
   "nbconvert_exporter": "python",
   "pygments_lexer": "ipython3",
   "version": "3.10.10"
  }
 },
 "nbformat": 4,
 "nbformat_minor": 4
}
